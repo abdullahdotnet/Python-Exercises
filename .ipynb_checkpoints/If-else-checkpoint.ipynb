{
 "cells": [
  {
   "cell_type": "markdown",
   "id": "f5f13d80-8359-431c-8696-b2aab8a76673",
   "metadata": {},
   "source": [
    "# Section 8"
   ]
  },
  {
   "cell_type": "markdown",
   "id": "fbd77810-5a5e-4a24-aede-e07db29e7574",
   "metadata": {},
   "source": [
    "### Task 1: Discount Calculator"
   ]
  },
  {
   "cell_type": "markdown",
   "id": "1cc7a395-4c08-47e5-ba7a-e91505081356",
   "metadata": {},
   "source": [
    "Build a program that calculates a discount based on the purchase amount and applies it if certain conditions are met (e.g., minimum purchase value)."
   ]
  },
  {
   "cell_type": "code",
   "execution_count": null,
   "id": "db8cd61c-2d69-4f90-84ae-8474f84eca48",
   "metadata": {},
   "outputs": [],
   "source": [
    "# your code starts here\n",
    "\n",
    "\n",
    "\n",
    "#your code ends here"
   ]
  }
 ],
 "metadata": {
  "kernelspec": {
   "display_name": "Python 3 (ipykernel)",
   "language": "python",
   "name": "python3"
  },
  "language_info": {
   "codemirror_mode": {
    "name": "ipython",
    "version": 3
   },
   "file_extension": ".py",
   "mimetype": "text/x-python",
   "name": "python",
   "nbconvert_exporter": "python",
   "pygments_lexer": "ipython3",
   "version": "3.10.1"
  }
 },
 "nbformat": 4,
 "nbformat_minor": 5
}
